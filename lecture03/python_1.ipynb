{
 "cells": [
  {
   "cell_type": "code",
   "execution_count": 38,
   "metadata": {},
   "outputs": [
    {
     "name": "stdout",
     "output_type": "stream",
     "text": [
      "hello\n"
     ]
    }
   ],
   "source": [
    "print('hello')"
   ]
  },
  {
   "cell_type": "markdown",
   "metadata": {},
   "source": [
    "# python 类型和变量\n",
    "\n",
    "## 规范：\n",
    "### 1.变量名只能由字母、数字和下划线组成，字母区分大小写\n",
    "### 2.第一个字符必须是字母或者下划线，不能是数字\n",
    "### 3.不能使用python的关键字（保留字）"
   ]
  },
  {
   "cell_type": "code",
   "execution_count": 39,
   "metadata": {},
   "outputs": [
    {
     "data": {
      "text/plain": [
       "123"
      ]
     },
     "execution_count": 39,
     "metadata": {},
     "output_type": "execute_result"
    }
   ],
   "source": [
    "# int 类型\n",
    "\n",
    "123"
   ]
  },
  {
   "cell_type": "code",
   "execution_count": 40,
   "metadata": {},
   "outputs": [
    {
     "data": {
      "text/plain": [
       "9"
      ]
     },
     "execution_count": 40,
     "metadata": {},
     "output_type": "execute_result"
    }
   ],
   "source": [
    "# 八进制 \n",
    "# 0o开头\n",
    "\n",
    "0o11"
   ]
  },
  {
   "cell_type": "code",
   "execution_count": 41,
   "metadata": {},
   "outputs": [
    {
     "data": {
      "text/plain": [
       "17"
      ]
     },
     "execution_count": 41,
     "metadata": {},
     "output_type": "execute_result"
    }
   ],
   "source": [
    "# 16进制\n",
    "# 0x开头\n",
    "\n",
    "0x11"
   ]
  },
  {
   "cell_type": "code",
   "execution_count": 42,
   "metadata": {},
   "outputs": [
    {
     "data": {
      "text/plain": [
       "0.0013"
      ]
     },
     "execution_count": 42,
     "metadata": {},
     "output_type": "execute_result"
    }
   ],
   "source": [
    "# float 类型\n",
    "\n",
    "0.0013"
   ]
  },
  {
   "cell_type": "code",
   "execution_count": 43,
   "metadata": {},
   "outputs": [
    {
     "data": {
      "text/plain": [
       "0.0013"
      ]
     },
     "execution_count": 43,
     "metadata": {},
     "output_type": "execute_result"
    }
   ],
   "source": [
    "# 指数形式，格式为：实数部分+字母E或者e+正负号+整数部分\n",
    "\n",
    "1.3e-3"
   ]
  },
  {
   "cell_type": "code",
   "execution_count": 45,
   "metadata": {},
   "outputs": [
    {
     "data": {
      "text/plain": [
       "'hello'"
      ]
     },
     "execution_count": 45,
     "metadata": {},
     "output_type": "execute_result"
    }
   ],
   "source": [
    "# string 类型\n",
    "\n",
    "\"hello\""
   ]
  },
  {
   "cell_type": "code",
   "execution_count": 46,
   "metadata": {},
   "outputs": [
    {
     "name": "stdout",
     "output_type": "stream",
     "text": [
      "I'm OK\n",
      "I love \"python\"\n",
      "I'm \"OK\"\n",
      "I'm learning\n",
      " python\n"
     ]
    }
   ],
   "source": [
    "# 转义字符\n",
    "# \\' 单引号\n",
    "# \\\" 双引号\n",
    "# \\\\ 反斜杠\n",
    "# \\n 换行符\n",
    "\n",
    "print(\"I'm OK\")\n",
    "print('I love \"python\"')\n",
    "print('I\\'m \\\"OK\\\"')\n",
    "print('I\\'m learning\\n python')"
   ]
  },
  {
   "cell_type": "code",
   "execution_count": 49,
   "metadata": {},
   "outputs": [
    {
     "data": {
      "text/plain": [
       "True"
      ]
     },
     "execution_count": 49,
     "metadata": {},
     "output_type": "execute_result"
    }
   ],
   "source": [
    "# boolean 类型\n",
    "True\n",
    "\n",
    "\n",
    "# not true 大小写敏感\n",
    "# true"
   ]
  },
  {
   "cell_type": "markdown",
   "metadata": {},
   "source": [
    "## 强制类型转换"
   ]
  },
  {
   "cell_type": "code",
   "execution_count": 50,
   "metadata": {},
   "outputs": [
    {
     "name": "stdout",
     "output_type": "stream",
     "text": [
      "3\n",
      "3.0\n"
     ]
    },
    {
     "data": {
      "text/plain": [
       "'123'"
      ]
     },
     "execution_count": 50,
     "metadata": {},
     "output_type": "execute_result"
    }
   ],
   "source": [
    "print(int(3.7))\n",
    "print(float(3))\n",
    "str(123)"
   ]
  },
  {
   "cell_type": "markdown",
   "metadata": {},
   "source": [
    "## type 函数"
   ]
  },
  {
   "cell_type": "code",
   "execution_count": 51,
   "metadata": {},
   "outputs": [
    {
     "data": {
      "text/plain": [
       "int"
      ]
     },
     "execution_count": 51,
     "metadata": {},
     "output_type": "execute_result"
    }
   ],
   "source": [
    "type(1)"
   ]
  },
  {
   "cell_type": "code",
   "execution_count": 52,
   "metadata": {},
   "outputs": [
    {
     "name": "stdout",
     "output_type": "stream",
     "text": [
      "<class 'int'>\n",
      "<class 'float'>\n",
      "<class 'str'>\n",
      "<class 'bool'>\n"
     ]
    }
   ],
   "source": [
    "print(type(1))\n",
    "print(type(1.1))\n",
    "print(type('中国人'))\n",
    "print(type(True))"
   ]
  },
  {
   "cell_type": "code",
   "execution_count": 53,
   "metadata": {},
   "outputs": [
    {
     "data": {
      "text/plain": [
       "list"
      ]
     },
     "execution_count": 53,
     "metadata": {},
     "output_type": "execute_result"
    }
   ],
   "source": [
    "type([1,2,3,4])"
   ]
  },
  {
   "cell_type": "code",
   "execution_count": 54,
   "metadata": {},
   "outputs": [
    {
     "data": {
      "text/plain": [
       "tuple"
      ]
     },
     "execution_count": 54,
     "metadata": {},
     "output_type": "execute_result"
    }
   ],
   "source": [
    "type((1,2,3,4))"
   ]
  },
  {
   "cell_type": "markdown",
   "metadata": {},
   "source": [
    "## 单个、多个变量赋值"
   ]
  },
  {
   "cell_type": "code",
   "execution_count": 55,
   "metadata": {},
   "outputs": [
    {
     "data": {
      "text/plain": [
       "int"
      ]
     },
     "execution_count": 55,
     "metadata": {},
     "output_type": "execute_result"
    }
   ],
   "source": [
    "# 单个\n",
    "a =123\n",
    "type(a)"
   ]
  },
  {
   "cell_type": "code",
   "execution_count": 56,
   "metadata": {},
   "outputs": [
    {
     "name": "stdout",
     "output_type": "stream",
     "text": [
      "1 1 1\n"
     ]
    }
   ],
   "source": [
    "# 多个\n",
    "b=c=d=1\n",
    "print(b,c,d)"
   ]
  },
  {
   "cell_type": "code",
   "execution_count": 57,
   "metadata": {},
   "outputs": [
    {
     "name": "stdout",
     "output_type": "stream",
     "text": [
      "1 2 abc\n"
     ]
    }
   ],
   "source": [
    "# 多个\n",
    "a,b,c= 1,2,'abc'\n",
    "\n",
    "print(a,b,c)"
   ]
  },
  {
   "cell_type": "markdown",
   "metadata": {},
   "source": [
    "## 演示1"
   ]
  },
  {
   "cell_type": "code",
   "execution_count": 58,
   "metadata": {},
   "outputs": [
    {
     "name": "stdout",
     "output_type": "stream",
     "text": [
      "2023\n"
     ]
    }
   ],
   "source": [
    "x = 2023\n",
    "print(x)"
   ]
  },
  {
   "cell_type": "code",
   "execution_count": 59,
   "metadata": {},
   "outputs": [
    {
     "ename": "NameError",
     "evalue": "name 'x' is not defined",
     "output_type": "error",
     "traceback": [
      "\u001b[0;31m---------------------------------------------------------------------------\u001b[0m",
      "\u001b[0;31mNameError\u001b[0m                                 Traceback (most recent call last)",
      "\u001b[1;32m/Users/huangwenrui/Workspace/ECNU Course/dase-practice-course/python_course/course1.ipynb 单元格 24\u001b[0m line \u001b[0;36m2\n\u001b[1;32m      <a href='vscode-notebook-cell:/Users/huangwenrui/Workspace/ECNU%20Course/dase-practice-course/python_course/course1.ipynb#X24sZmlsZQ%3D%3D?line=0'>1</a>\u001b[0m \u001b[39mdel\u001b[39;00m x\n\u001b[0;32m----> <a href='vscode-notebook-cell:/Users/huangwenrui/Workspace/ECNU%20Course/dase-practice-course/python_course/course1.ipynb#X24sZmlsZQ%3D%3D?line=1'>2</a>\u001b[0m \u001b[39mprint\u001b[39m(x)\n\u001b[1;32m      <a href='vscode-notebook-cell:/Users/huangwenrui/Workspace/ECNU%20Course/dase-practice-course/python_course/course1.ipynb#X24sZmlsZQ%3D%3D?line=2'>3</a>\u001b[0m \u001b[39m# 消除变量\u001b[39;00m\n",
      "\u001b[0;31mNameError\u001b[0m: name 'x' is not defined"
     ]
    }
   ],
   "source": [
    "del x\n",
    "print(x)\n",
    "# 消除变量"
   ]
  },
  {
   "cell_type": "code",
   "execution_count": 60,
   "metadata": {},
   "outputs": [
    {
     "name": "stdout",
     "output_type": "stream",
     "text": [
      "None\n",
      "<class 'NoneType'>\n"
     ]
    }
   ],
   "source": [
    "x = None\n",
    "print(x)\n",
    "print(type(x))\n",
    "\n",
    "# 告诉python 先设定一个值x，但是不给他赋值"
   ]
  },
  {
   "cell_type": "markdown",
   "metadata": {},
   "source": [
    "## 变量命名规范"
   ]
  },
  {
   "cell_type": "markdown",
   "metadata": {},
   "source": [
    "不推荐使用"
   ]
  },
  {
   "cell_type": "code",
   "execution_count": 61,
   "metadata": {},
   "outputs": [
    {
     "ename": "SyntaxError",
     "evalue": "invalid character '😄' (U+1F604) (3585987403.py, line 1)",
     "output_type": "error",
     "traceback": [
      "\u001b[0;36m  Cell \u001b[0;32mIn[61], line 1\u001b[0;36m\u001b[0m\n\u001b[0;31m    😄 = 'haha'\u001b[0m\n\u001b[0m    ^\u001b[0m\n\u001b[0;31mSyntaxError\u001b[0m\u001b[0;31m:\u001b[0m invalid character '😄' (U+1F604)\n"
     ]
    }
   ],
   "source": [
    "😄 = 'haha'"
   ]
  },
  {
   "cell_type": "code",
   "execution_count": 62,
   "metadata": {},
   "outputs": [],
   "source": [
    "中 = 'zhong'"
   ]
  },
  {
   "cell_type": "markdown",
   "metadata": {},
   "source": [
    "推荐使用"
   ]
  },
  {
   "cell_type": "code",
   "execution_count": null,
   "metadata": {},
   "outputs": [],
   "source": [
    "result_str = 'result'"
   ]
  },
  {
   "cell_type": "markdown",
   "metadata": {},
   "source": [
    "# 运算符与表达式\n",
    "\n",
    "---\n",
    "| 运算符 | 名称 | 说明 | \n",
    "| :----: | :----: | ------ | \n",
    "|   +   | 加法 | 两数相加 | \n",
    "|   -   | 减法 |  | \n",
    "|   *   | 乘法 |  | \n",
    "|   /   | 除法 | 左数除以右数，返回float值 |\n",
    "|   %   | 模运算 | 返回余数 | \n",
    "|   **   | 乘方 | x的y次幂 | \n",
    "|   //   | 整除 | 返回商的整数部分 | \n",
    "---\n"
   ]
  },
  {
   "cell_type": "code",
   "execution_count": 63,
   "metadata": {},
   "outputs": [
    {
     "name": "stdout",
     "output_type": "stream",
     "text": [
      "a+b= 6\n",
      "a-b= 2\n",
      "a*b 8\n",
      "a/b 2.0\n",
      "a%b 0\n",
      "a**b= 16\n",
      "a//b= 2\n",
      "b//a= 0\n"
     ]
    }
   ],
   "source": [
    "a=4\n",
    "b=2\n",
    "print(\"a+b=\",a+b)\n",
    "print(\"a-b=\",a-b)\n",
    "print(\"a*b\",a*b)\n",
    "print(\"a/b\",a/b)\n",
    "print(\"a%b\",a%b)\n",
    "print(\"a**b=\",a**b)\n",
    "print(\"a//b=\",a//b)\n",
    "print(\"b//a=\",b//a)"
   ]
  },
  {
   "cell_type": "markdown",
   "metadata": {},
   "source": [
    "## 关系运算符\n",
    "\n",
    "---\n",
    "| 符号 | 功能 | 优先级 | \n",
    "| :----: | :----: | ------ | \n",
    "|   >   | 大于 |  | \n",
    "|   >=   | 大于等于 |  | \n",
    "|   <   | 小于 |  | \n",
    "|   <=   | 小于等于 |  |\n",
    "|   ==   | 等于 |  | \n",
    "|   !=   | 不等于 |  | \n",
    "---\n"
   ]
  },
  {
   "cell_type": "markdown",
   "metadata": {},
   "source": [
    "## 逻辑运算符\n",
    "\n",
    "and 与\n",
    "or 或\n",
    "not 非\n",
    "\n",
    "## 成员运算符\n",
    "\n",
    "in 和 not in"
   ]
  },
  {
   "cell_type": "code",
   "execution_count": 64,
   "metadata": {},
   "outputs": [
    {
     "name": "stdout",
     "output_type": "stream",
     "text": [
      "True\n",
      "False\n"
     ]
    }
   ],
   "source": [
    "a,b=1,2\n",
    "list=[1,2,3,4,5]\n",
    "print(a in list)\n",
    "print(b not in list)"
   ]
  },
  {
   "cell_type": "markdown",
   "metadata": {},
   "source": [
    "# 输入输出\n",
    "\n"
   ]
  },
  {
   "cell_type": "markdown",
   "metadata": {},
   "source": [
    "## 输出\n",
    "- 输出字符串时，要加单引号和双引号\n",
    "- 输出变量时，可以不加\n",
    "- 需要同时输出多个时，用,隔开\n",
    "- print 默认最后换行，可用 end = '' 防止"
   ]
  },
  {
   "cell_type": "code",
   "execution_count": 65,
   "metadata": {},
   "outputs": [
    {
     "name": "stdout",
     "output_type": "stream",
     "text": [
      "网址是 www.github.com\n",
      "欢迎~\n"
     ]
    }
   ],
   "source": [
    "url='www.github.com'\n",
    "print(\"网址是\",url)\n",
    "print(\"欢迎~\")"
   ]
  },
  {
   "cell_type": "code",
   "execution_count": 67,
   "metadata": {},
   "outputs": [
    {
     "name": "stdout",
     "output_type": "stream",
     "text": [
      "网址是 www.github.com 欢迎~\n"
     ]
    }
   ],
   "source": [
    "url='www.github.com'\n",
    "print(\"网址是\",url,end='')\n",
    "print(\" 欢迎~\")"
   ]
  },
  {
   "cell_type": "markdown",
   "metadata": {},
   "source": [
    "### 格式要求\n",
    "\n"
   ]
  },
  {
   "cell_type": "markdown",
   "metadata": {},
   "source": [
    "#### % 格式化\n",
    "\n",
    "格式：\n",
    "\"%[+/-][0][m][.n]格式字符\" %变量\n",
    "\n",
    "其中：\n",
    "- +表示右对齐，-表示左对齐\n",
    "- m表示输出最小宽度，若有[0],则多余补0\n",
    "- .n表示精度\n",
    "- 格式字符表示类型\n",
    "\n",
    "%s 字符串\n",
    "%c 单个字符\n",
    "%d 十进制整数\n",
    "%o 八进制整数\n",
    "%x 十六进制整数\n",
    "%f 浮点数"
   ]
  },
  {
   "cell_type": "code",
   "execution_count": 68,
   "metadata": {},
   "outputs": [
    {
     "name": "stdout",
     "output_type": "stream",
     "text": [
      "a=15\n",
      "a=00015\n",
      "a=   15\n",
      "b=1234.567800\n",
      "b= 1234.57\n",
      "b=1234.57\n",
      "s=this is dase!\n",
      "s=    this is dase!\n",
      "s=this             \n"
     ]
    }
   ],
   "source": [
    "a = 15\n",
    "b = 1234.5678\n",
    "s =\"this is dase!\"\n",
    "print(\"a=%d\"%a)    # 不设置格式\n",
    "print(\"a=%05d\"%a)  # 使用m控制输出，空位补0\n",
    "print(\"a=%5d\"%a)   # 使用m控制输出，空位补空格\n",
    "\n",
    "print(\"b=%f\"%b)    # 不设置格式\n",
    "print(\"b=%8.2f\"%b) # 输出b，用m.n控制长度和小数点位数\n",
    "print(\"b=%4.2f\"%b) # 同上\n",
    "\n",
    "print(\"s=%s\"%s)    # 不设置格式\n",
    "print(\"s=%17s\"%s)  # 使用m控制输出字符串长度\n",
    "print(\"s=%-17.5s\"%s) #使用-m.n左对齐，限制字符串长度"
   ]
  },
  {
   "cell_type": "markdown",
   "metadata": {},
   "source": [
    "## 输入\n",
    "\n",
    "input()函数"
   ]
  },
  {
   "cell_type": "code",
   "execution_count": 69,
   "metadata": {},
   "outputs": [
    {
     "name": "stdout",
     "output_type": "stream",
     "text": [
      "your name is bob\n"
     ]
    }
   ],
   "source": [
    "name=input(\"enter your name:\")\n",
    "print(\"your name is\",name)"
   ]
  },
  {
   "cell_type": "markdown",
   "metadata": {},
   "source": [
    "# 选择结构设计"
   ]
  },
  {
   "cell_type": "code",
   "execution_count": 72,
   "metadata": {},
   "outputs": [],
   "source": [
    "# 单分支if\n",
    "\n",
    "# 格式 if 判断条件：\n",
    "#         语句块\n",
    "# 注意缩进！\n",
    "\n",
    "grade=eval(input(\"输入成绩：\"))\n",
    "if grade>=60:\n",
    "    print(\"及格\")\n",
    "print(\"辛苦了\")"
   ]
  },
  {
   "cell_type": "code",
   "execution_count": 73,
   "metadata": {},
   "outputs": [
    {
     "name": "stdout",
     "output_type": "stream",
     "text": [
      "不及格\n",
      "辛苦了\n"
     ]
    }
   ],
   "source": [
    "# 双分支if-else\n",
    "\n",
    "# 格式 if 判断条件：\n",
    "#         语句块1\n",
    "#      else：\n",
    "#         语句块2\n",
    "# 注意缩进！\n",
    "\n",
    "grade=eval(input(\"输入成绩：\"))\n",
    "if grade>=60:\n",
    "    print(\"及格\")\n",
    "else:\n",
    "    print('不及格')\n",
    "print(\"辛苦了\")"
   ]
  },
  {
   "cell_type": "code",
   "execution_count": 74,
   "metadata": {},
   "outputs": [
    {
     "name": "stdout",
     "output_type": "stream",
     "text": [
      "良好\n",
      "辛苦了\n"
     ]
    }
   ],
   "source": [
    "# 多分支if-elif-else\n",
    "\n",
    "# 格式 if 判断条件1：\n",
    "#         语句块1\n",
    "#      elif 判断条件2：\n",
    "#         语句块2\n",
    "#       ...\n",
    "#      else:\n",
    "#         语句块n\n",
    "# 注意缩进！\n",
    "\n",
    "grade=eval(input(\"输入成绩：\"))\n",
    "if grade>90:\n",
    "    print(\"优秀\")\n",
    "elif grade>80:\n",
    "    print('良好')\n",
    "elif grade>60:\n",
    "    print('及格')\n",
    "else:\n",
    "    print('不及格')\n",
    "print(\"辛苦了\")"
   ]
  },
  {
   "cell_type": "code",
   "execution_count": 75,
   "metadata": {},
   "outputs": [
    {
     "name": "stdout",
     "output_type": "stream",
     "text": [
      "最大值为： 9\n"
     ]
    }
   ],
   "source": [
    "# if的嵌套\n",
    "\n",
    "# if 判断条件1:\n",
    "#    if 判断条件2：\n",
    "#        语句块1\n",
    "#    else：\n",
    "#        语句块2\n",
    "# else：\n",
    "#    if 判断条件3:\n",
    "#        语句块3\n",
    "#    else：\n",
    "#        语句块4 \n",
    "\n",
    "\n",
    "# 注意缩进\n",
    "\n",
    "a=eval(input('输入a的值:'))\n",
    "b=eval(input('输入b的值:'))\n",
    "c=eval(input('输入c的值:'))\n",
    "if a>b:\n",
    "    if a>c:\n",
    "        max=a\n",
    "    else:\n",
    "        max=c\n",
    "else:\n",
    "    if b>c:\n",
    "        max=b\n",
    "    else:\n",
    "        max=c\n",
    "print('最大值为：',max)"
   ]
  }
 ],
 "metadata": {
  "kernelspec": {
   "display_name": "Python 3",
   "language": "python",
   "name": "python3"
  },
  "language_info": {
   "codemirror_mode": {
    "name": "ipython",
    "version": 3
   },
   "file_extension": ".py",
   "mimetype": "text/x-python",
   "name": "python",
   "nbconvert_exporter": "python",
   "pygments_lexer": "ipython3",
   "version": "3.11.5"
  },
  "orig_nbformat": 4
 },
 "nbformat": 4,
 "nbformat_minor": 2
}
