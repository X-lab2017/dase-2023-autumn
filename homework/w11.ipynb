{
 "cells": [
  {
   "cell_type": "markdown",
   "metadata": {},
   "source": [
    "## 练习"
   ]
  },
  {
   "cell_type": "markdown",
   "metadata": {},
   "source": [
    "通过学习PyGithub文档，利用GitHub API，首先生成个人的token，查询自己所有关注者的仓库的数据，将其存到本地。"
   ]
  },
  {
   "cell_type": "code",
   "execution_count": null,
   "metadata": {},
   "outputs": [],
   "source": [
    "from github import Github\n",
    "\n",
    "# 你的GitHub个人访问令牌\n",
    "token = 'YOUR_PERSONAL_ACCESS_TOKEN'\n",
    "\n",
    "# 创建Github对象\n",
    "g = Github(token)\n",
    "\n",
    "user = g.get_user()\n",
    "\n",
    "following = user.get_following()\n",
    "\n",
    "for follower in following:\n",
    "    print(f\"Follower: {follower.login}\")\n",
    "\n",
    "    repos = follower.get_repos()\n",
    "\n",
    "    for repo in repos:\n",
    "        print(f\"  Repo: {repo.name}\")\n",
    "        \n",
    "        with open('follower_repos.txt', 'a') as file:\n",
    "            file.write(f\"{follower.login}/{repo.name}\\n\")"
   ]
  }
 ],
 "metadata": {
  "kernelspec": {
   "display_name": "Python 3",
   "language": "python",
   "name": "python3"
  },
  "language_info": {
   "codemirror_mode": {
    "name": "ipython",
    "version": 3
   },
   "file_extension": ".py",
   "mimetype": "text/x-python",
   "name": "python",
   "nbconvert_exporter": "python",
   "pygments_lexer": "ipython3",
   "version": "3.11.5"
  }
 },
 "nbformat": 4,
 "nbformat_minor": 2
}
