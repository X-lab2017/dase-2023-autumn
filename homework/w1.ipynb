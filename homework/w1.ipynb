{
 "cells": [
  {
   "cell_type": "markdown",
   "metadata": {},
   "source": [
    "##### 1. 创建一个 GitHub 账号，并新建一个仓库。\n"
   ]
  },
  {
   "cell_type": "markdown",
   "metadata": {},
   "source": [
    "\n",
    "##### 2. 编写Python程序，打印\"Hello, World!\"，然后将该程序上传到GitHub仓库（例如GitHub）。\n"
   ]
  },
  {
   "cell_type": "markdown",
   "metadata": {},
   "source": [
    "\n",
    "##### 3. 修改上述程序，使其能够打印你自己的姓名与学号，然后使用Git工具将修改后的程序更新到你建立的代码仓库中。\n"
   ]
  },
  {
   "cell_type": "markdown",
   "metadata": {},
   "source": [
    "\n",
    "##### 4. 编写Python程序，打印\"数据科学与工程导论\"，并使用 `print(chr(0x2605))` 语句将星星包围起来。\n",
    "\n"
   ]
  },
  {
   "cell_type": "code",
   "execution_count": 2,
   "metadata": {},
   "outputs": [
    {
     "name": "stdout",
     "output_type": "stream",
     "text": [
      "★ 数据科学与工程导论 ★\n"
     ]
    }
   ],
   "source": [
    "print(chr(0x2605)  + \" 数据科学与工程导论 \" + chr(0x2605) )"
   ]
  },
  {
   "cell_type": "markdown",
   "metadata": {},
   "source": [
    "##### 5. 写一个 Python 程序，输入 x, y, z 这三个数，将这三个数从小到大使用 `print` 函数打印出来。"
   ]
  },
  {
   "cell_type": "code",
   "execution_count": 4,
   "metadata": {},
   "outputs": [
    {
     "name": "stdout",
     "output_type": "stream",
     "text": [
      "从小到大排序后的结果为：1.0, 2.0, 3.0\n"
     ]
    }
   ],
   "source": [
    "x = float(input(\"请输入第一个数 x: \"))\n",
    "y = float(input(\"请输入第二个数 y: \"))\n",
    "z = float(input(\"请输入第三个数 z: \"))\n",
    "\n",
    "# 比较和排序\n",
    "# 比较x和y，将较小的数放到x中，较大的数放到y中\n",
    "if x > y:\n",
    "    x, y = y, x\n",
    "\n",
    "# 再次比较y和z，将较小的数放到y中，较大的数放到z中\n",
    "if y > z:\n",
    "    y, z = z, y\n",
    "\n",
    "# 最后再次比较x和y，确保x最小，y次小，z最大\n",
    "if x > y:\n",
    "    x, y = y, x\n",
    "\n",
    "# 打印排序结果\n",
    "print(f\"从小到大排序后的结果为：{x}, {y}, {z}\")"
   ]
  },
  {
   "cell_type": "markdown",
   "metadata": {},
   "source": [
    "##### 6. 写一个 Python 程序，有 w, x, y, z 四个数，将这四个数从大到小使用 `print` 函数打印出来。"
   ]
  },
  {
   "cell_type": "code",
   "execution_count": 5,
   "metadata": {},
   "outputs": [
    {
     "name": "stdout",
     "output_type": "stream",
     "text": [
      "从大到小排序后的结果为：63, 38, 41, 2\n"
     ]
    }
   ],
   "source": [
    "import random\n",
    "\n",
    "# 生成四个随机整数\n",
    "w = random.randint(1, 100)\n",
    "x = random.randint(1, 100)\n",
    "y = random.randint(1, 100)\n",
    "z = random.randint(1, 100)\n",
    "\n",
    "# 使用条件语句进行排序\n",
    "if w < x:\n",
    "    w, x = x, w\n",
    "if x < y:\n",
    "    x, y = y, x\n",
    "if y < z:\n",
    "    y, z = z, y\n",
    "if w < x:\n",
    "    w, x = x, w\n",
    "\n",
    "# 打印排序后的结果\n",
    "print(f\"从大到小排序后的结果为：{w}, {x}, {y}, {z}\")\n",
    "\n"
   ]
  },
  {
   "cell_type": "markdown",
   "metadata": {},
   "source": [
    "##### 7. 写一个 Python 程序，输出 1-100 中的所有奇数。"
   ]
  },
  {
   "cell_type": "code",
   "execution_count": 6,
   "metadata": {},
   "outputs": [
    {
     "name": "stdout",
     "output_type": "stream",
     "text": [
      "1\n",
      "3\n",
      "5\n",
      "7\n",
      "9\n",
      "11\n",
      "13\n",
      "15\n",
      "17\n",
      "19\n",
      "21\n",
      "23\n",
      "25\n",
      "27\n",
      "29\n",
      "31\n",
      "33\n",
      "35\n",
      "37\n",
      "39\n",
      "41\n",
      "43\n",
      "45\n",
      "47\n",
      "49\n",
      "51\n",
      "53\n",
      "55\n",
      "57\n",
      "59\n",
      "61\n",
      "63\n",
      "65\n",
      "67\n",
      "69\n",
      "71\n",
      "73\n",
      "75\n",
      "77\n",
      "79\n",
      "81\n",
      "83\n",
      "85\n",
      "87\n",
      "89\n",
      "91\n",
      "93\n",
      "95\n",
      "97\n",
      "99\n"
     ]
    }
   ],
   "source": [
    "for num in range(1, 101, 2):\n",
    "    print(num)"
   ]
  },
  {
   "cell_type": "markdown",
   "metadata": {},
   "source": [
    "##### 8. 写一个 Python 程序，用 `for` 循环，求解 1 到 100 的和。\n"
   ]
  },
  {
   "cell_type": "code",
   "execution_count": 7,
   "metadata": {},
   "outputs": [
    {
     "name": "stdout",
     "output_type": "stream",
     "text": [
      "5050\n"
     ]
    }
   ],
   "source": [
    "sum = 0\n",
    "for num in range(1, 101):\n",
    "    sum += num\n",
    "print(sum)"
   ]
  },
  {
   "cell_type": "markdown",
   "metadata": {},
   "source": [
    "##### 9. 写一个 Python 程序，分别用 `for` 和 `while` 循环实现对一个给定序列的倒排序输出。例如，给定 `L=[1,2,3,4,5]`，输出为 `[5,4,3,2,1]`。"
   ]
  },
  {
   "cell_type": "code",
   "execution_count": null,
   "metadata": {},
   "outputs": [],
   "source": [
    "L = [1, 2, 3, 4, 5]\n",
    "# 使用for循环\n",
    "for i in reversed(L):\n",
    "    print(i, end=' ')\n",
    "print()\n",
    "\n",
    "# 使用while循环\n",
    "index = len(L) - 1\n",
    "while index >= 0:\n",
    "    print(L[index], end=' ')\n",
    "    index -= 1"
   ]
  },
  {
   "cell_type": "markdown",
   "metadata": {},
   "source": [
    "##### 10. 写一个 Python 程序，判断一个输入的字符串 `S` 是否包含由两个或两个以上连续出现的相同字符组成的字符串。例如，`abccccda` 中就包含 `cccc` 这个由 4 个连续字符组成的字符串。"
   ]
  },
  {
   "cell_type": "code",
   "execution_count": 10,
   "metadata": {},
   "outputs": [
    {
     "data": {
      "text/plain": [
       "False"
      ]
     },
     "execution_count": 10,
     "metadata": {},
     "output_type": "execute_result"
    }
   ],
   "source": [
    "#s = input(\"请输入一个字符串：\")\n",
    "s = 'abcda'\n",
    "result = False\n",
    "for i in range(len(s) - 1):\n",
    "    if s[i] == s[i + 1]:\n",
    "        result = True\n",
    "\n",
    "result"
   ]
  },
  {
   "cell_type": "markdown",
   "metadata": {},
   "source": [
    "##### 11. 写一个 Python 程序，输入一个字符串 `S`，去掉其中所有的空格后输出。例如，“DataScience and Engineering”，去掉空格后为“DataScienceandEngineering”。"
   ]
  },
  {
   "cell_type": "code",
   "execution_count": 11,
   "metadata": {},
   "outputs": [
    {
     "name": "stdout",
     "output_type": "stream",
     "text": [
      "去掉空格后的结果为: DataScienceandEngineering\n"
     ]
    }
   ],
   "source": [
    "#s = input(\"请输入一个字符串：\")\n",
    "s = 'DataScience and Engineering'\n",
    "\n",
    "# 初始化一个空字符串，用于存储去掉空格后的结果\n",
    "result_string = \"\"\n",
    "\n",
    "# 遍历输入字符串的每个字符\n",
    "for char in s:\n",
    "    # 如果字符不是空格，则将其添加到结果字符串中\n",
    "    if char != \" \":\n",
    "        result_string += char\n",
    "\n",
    "# 打印去掉空格后的结果\n",
    "print(\"去掉空格后的结果为:\", result_string)\n",
    "\n"
   ]
  },
  {
   "cell_type": "markdown",
   "metadata": {},
   "source": [
    "##### 12. 请设计一个求 3 次方根的算法（不允许直接调用求方根的函数），并给出对应的 Python 程序。"
   ]
  },
  {
   "cell_type": "markdown",
   "metadata": {},
   "source": [
    "采用牛顿迭代法求解，迭代过程数学公式表示如下：\n",
    "\n",
    "$$\n",
    "x_{n+1} = x_n - \\frac{f(x_n)}{f'(x_n)}\n",
    "$$"
   ]
  },
  {
   "cell_type": "code",
   "execution_count": 13,
   "metadata": {},
   "outputs": [
    {
     "name": "stdout",
     "output_type": "stream",
     "text": [
      "27.0的3次方根是约3.000000\n"
     ]
    }
   ],
   "source": [
    "def cube_root(n):\n",
    "    epsilon = 1e-6\n",
    "    guess = n / 2.0\n",
    "    # 只要当前猜测的立方值与目标值 n 的立方值的差的绝对值大于 epsilon，就继续迭代\n",
    "    while abs(guess**3 - n) > epsilon: \n",
    "        guess = (2 * guess + n / guess**2) / 3.0  #牛顿迭代法\n",
    "    return guess\n",
    "\n",
    "n = float(input(\"请输入一个数：\"))\n",
    "result = cube_root(n)\n",
    "print(f\"{n}的3次方根是约{result:.6f}\")\n"
   ]
  },
  {
   "cell_type": "markdown",
   "metadata": {},
   "source": [
    "##### 13. 写一个 Python 程序，给定一个常数 `n`（n>0），求 n 的阶乘，即 `n!=1×2×...×(n-1)×n`。例如，`4!=24`，`5!=120`。\n"
   ]
  },
  {
   "cell_type": "code",
   "execution_count": 14,
   "metadata": {},
   "outputs": [
    {
     "name": "stdout",
     "output_type": "stream",
     "text": [
      "4的阶乘是24\n"
     ]
    }
   ],
   "source": [
    "n = random.randint(1, 10)\n",
    "result = 1\n",
    "for i in range(n):\n",
    "    result *= i+1\n",
    "print(f\"{n}的阶乘是{result}\")"
   ]
  }
 ],
 "metadata": {
  "kernelspec": {
   "display_name": "base",
   "language": "python",
   "name": "python3"
  },
  "language_info": {
   "codemirror_mode": {
    "name": "ipython",
    "version": 3
   },
   "file_extension": ".py",
   "mimetype": "text/x-python",
   "name": "python",
   "nbconvert_exporter": "python",
   "pygments_lexer": "ipython3",
   "version": "3.8.5"
  }
 },
 "nbformat": 4,
 "nbformat_minor": 2
}
