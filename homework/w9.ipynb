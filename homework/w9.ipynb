{
 "cells": [
  {
   "cell_type": "markdown",
   "metadata": {},
   "source": [
    "# 3 在新数据库中新建一张 user 表,插入几条数据,属性包含:唯一标识(id),姓名(name)性别(sex).年龄(age).联系方式(phone)"
   ]
  },
  {
   "cell_type": "markdown",
   "metadata": {},
   "source": [
    "```sql\n",
    "-- 创建新数据库\n",
    "CREATE DATABASE IF NOT EXISTS new_database;\n",
    "\n",
    "-- 切换到新数据库\n",
    "USE new_database;\n",
    "\n",
    "-- 创建user表\n",
    "CREATE TABLE IF NOT EXISTS user (\n",
    "    id INT AUTO_INCREMENT PRIMARY KEY,\n",
    "    name VARCHAR(255) NOT NULL,\n",
    "    sex VARCHAR(10),\n",
    "    age INT,\n",
    "    phone VARCHAR(20)\n",
    ");\n",
    "\n",
    "-- 插入数据\n",
    "INSERT INTO user (name, sex, age, phone) VALUES\n",
    "('John Doe', 'Male', 25, '123-456-7890'),\n",
    "('Jane Smith', 'Female', 30, '987-654-3210'),\n",
    "('Bob Johnson', 'Male', 22, '555-123-4567');\n",
    "```"
   ]
  },
  {
   "cell_type": "markdown",
   "metadata": {},
   "source": [
    "# 4 写出 SQL语句,查询 user 表中所有年龄在 20-30 范围内的用户"
   ]
  },
  {
   "cell_type": "markdown",
   "metadata": {},
   "source": [
    "```sql\n",
    "SELECT * FROM user\n",
    "WHERE age BETWEEN 20 AND 30;\n",
    "```"
   ]
  },
  {
   "cell_type": "markdown",
   "metadata": {},
   "source": [
    "# 5 写出 SQL 语句，删除 user 表中名字包含“张”的用户"
   ]
  },
  {
   "cell_type": "markdown",
   "metadata": {},
   "source": [
    "```sql\n",
    "DELETE FROM user\n",
    "WHERE name LIKE '%张%';\n",
    "```"
   ]
  },
  {
   "cell_type": "markdown",
   "metadata": {},
   "source": [
    "# 6 写出 SQL 语句,计算 user 表中所有用户的平均年龄"
   ]
  },
  {
   "cell_type": "markdown",
   "metadata": {},
   "source": [
    "```sql\n",
    "SELECT AVG(age) AS average_age FROM user;\n",
    "```"
   ]
  },
  {
   "cell_type": "markdown",
   "metadata": {},
   "source": [
    "# 7 写出 SQL语句,查询 user 表中年龄在 20-30 范围内,名字包含“张”的用户,并按照年龄从大到小排序输出"
   ]
  },
  {
   "cell_type": "markdown",
   "metadata": {},
   "source": [
    "```sql\n",
    "SELECT * FROM user\n",
    "WHERE age BETWEEN 20 AND 30\n",
    "  AND name LIKE '%张%'\n",
    "ORDER BY age DESC;\n",
    "```"
   ]
  },
  {
   "cell_type": "markdown",
   "metadata": {},
   "source": [
    "# 8 新建两张表team 表(id,teamName)和score 表(id,teamid,userid,score)。其中score 表中的 teamid 为指向 team表id 的外键，userid 为指向 user表id的外键"
   ]
  },
  {
   "cell_type": "markdown",
   "metadata": {},
   "source": [
    "```sql\n",
    "-- 创建 team 表\n",
    "CREATE TABLE team (\n",
    "    id INT PRIMARY KEY AUTO_INCREMENT,\n",
    "    teamName VARCHAR(255) NOT NULL\n",
    ");\n",
    "\n",
    "-- 创建 score 表\n",
    "CREATE TABLE score (\n",
    "    id INT PRIMARY KEY AUTO_INCREMENT,\n",
    "    teamid INT,\n",
    "    userid INT,\n",
    "    score INT,\n",
    "    FOREIGN KEY (teamid) REFERENCES team(id),\n",
    "    FOREIGN KEY (userid) REFERENCES user(id)\n",
    ");\n",
    "```"
   ]
  },
  {
   "cell_type": "markdown",
   "metadata": {},
   "source": [
    "# 9 写出 SQL语句,查询 teamName 为“ECNU”的队伍中，年龄小于 20 的用户们。"
   ]
  },
  {
   "cell_type": "markdown",
   "metadata": {},
   "source": [
    "```sql\n",
    "-- 将 user 表、score 表和 team 表连接起来。然后，通过 WHERE 子句筛选出 teamName 为“ECNU”且年龄小于 20 的用户。\n",
    "SELECT user.*\n",
    "FROM user\n",
    "JOIN score ON user.id = score.userid\n",
    "JOIN team ON score.teamid = team.id\n",
    "WHERE team.teamName = 'ECNU' AND user.age < 20;\n",
    "```"
   ]
  },
  {
   "cell_type": "markdown",
   "metadata": {},
   "source": [
    "# 10 写出 SQL 语句,计算 teamName为“ECNU”的总分(假设 score 存在 null值,nul值默认为 0 加入计算)。"
   ]
  },
  {
   "cell_type": "markdown",
   "metadata": {},
   "source": [
    "```sql\n",
    "-- 使用 COALESCE 函数将可能的 null 值转换为 0\n",
    "SELECT team.teamName, COALESCE(SUM(score.score), 0) AS totalScore\n",
    "FROM team\n",
    "LEFT JOIN score ON team.id = score.teamid\n",
    "WHERE team.teamName = 'ECNU'\n",
    "GROUP BY team.teamName;\n",
    "```"
   ]
  }
 ],
 "metadata": {
  "language_info": {
   "name": "python"
  }
 },
 "nbformat": 4,
 "nbformat_minor": 2
}
