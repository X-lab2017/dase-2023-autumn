{
 "cells": [
  {
   "cell_type": "markdown",
   "metadata": {},
   "source": [
    "## 1. 编写Python程序，完成十到二进制小数的转换"
   ]
  },
  {
   "cell_type": "code",
   "execution_count": 1,
   "metadata": {},
   "outputs": [
    {
     "name": "stdout",
     "output_type": "stream",
     "text": [
      "十进制数 10.625 转换为二进制数为 1010.10100000\n"
     ]
    }
   ],
   "source": [
    "def decimal_to_binary(decimal_number, precision=8):\n",
    "    binary_result = \"\"\n",
    "    \n",
    "    # 处理小数部分\n",
    "    integer_part = int(decimal_number)\n",
    "    fractional_part = decimal_number - integer_part\n",
    "    \n",
    "    # 转换整数部分为二进制\n",
    "    binary_result += bin(integer_part)[2:] + \".\"\n",
    "    \n",
    "    # 转换小数部分为二进制\n",
    "    for _ in range(precision):\n",
    "        fractional_part *= 2\n",
    "        binary_digit = int(fractional_part)\n",
    "        binary_result += str(binary_digit)\n",
    "        fractional_part -= binary_digit\n",
    "    \n",
    "    return binary_result\n",
    "\n",
    "# 输入十进制小数\n",
    "decimal_number = float(input('输入十进制小数'))\n",
    "\n",
    "# 调用函数进行转换，默认精度为8位\n",
    "binary_result = decimal_to_binary(decimal_number)\n",
    "print(f\"十进制数 {decimal_number} 转换为二进制数为 {binary_result}\")\n"
   ]
  },
  {
   "cell_type": "markdown",
   "metadata": {},
   "source": [
    "\n",
    "1. `decimal_to_binary` 函数定义：\n",
    "   - 这个函数接受两个参数，`decimal_number` 表示要转换的十进制小数，`precision` 表示要保留的二进制小数部分的位数，默认为8位。\n",
    "   - `binary_result` 是一个空字符串，用于存储最终的二进制表示。\n",
    "   - 首先，函数将输入的小数拆分成整数部分（`integer_part`）和小数部分（`fractional_part`）。\n",
    "   - 然后，它将整数部分转换为二进制，去掉前缀\"0b\"，并将点号（.）添加到`binary_result`。\n",
    "   - 接下来，它处理小数部分，将小数部分逐步转换为二进制位，并将结果添加到`binary_result` 中，保留指定的精度。\n",
    "\n",
    "2. 输入十进制小数：\n",
    "   - 通过 `input` 函数获取用户输入的十进制小数，将其转换为浮点数并存储在 `decimal_number` 变量中。\n",
    "\n",
    "3. 调用 `decimal_to_binary` 函数：\n",
    "   - 使用用户输入的 `decimal_number` 调用 `decimal_to_binary` 函数，将十进制小数转换为二进制小数。\n",
    "   - 默认情况下，保留8位小数。\n",
    "\n",
    "4. 打印结果：\n",
    "   - 使用 `print` 语句将转换后的二进制小数输出到屏幕上，包括原始的十进制小数。\n",
    "\n",
    "例如，如果用户输入 `0.625`，程序将输出：\n",
    "\n",
    "```\n",
    "输入十进制小数 0.625\n",
    "十进制数 0.625 转换为二进制数为 0.101\n",
    "```\n"
   ]
  },
  {
   "cell_type": "markdown",
   "metadata": {},
   "source": [
    "## 2. 编写Python程序，产生10-20的随机浮点数"
   ]
  },
  {
   "cell_type": "code",
   "execution_count": 2,
   "metadata": {},
   "outputs": [
    {
     "name": "stdout",
     "output_type": "stream",
     "text": [
      "随机浮点数: 10.551373099478393\n"
     ]
    }
   ],
   "source": [
    "import random\n",
    "\n",
    "random_float = random.uniform(10, 20)\n",
    "\n",
    "print(f\"随机浮点数: {random_float}\")"
   ]
  },
  {
   "cell_type": "markdown",
   "metadata": {},
   "source": [
    "## 3. 编写一个函数，使其能够用正则表达式的方式简单验证身份证号是否合法。\n",
    "\n",
    "validate_id_card函数使用正则表达式模式来匹配身份证号。模式通过以下方式验证身份证号的格式：\n",
    "\n",
    "- 第一位必须是1-9的数字，不以0开头。\n",
    "- 接下来6位是地区码。\n",
    "- 紧接着8位是出生年份和月份。\n",
    "- 接下来2位是出生日。\n",
    "- 然后是3位顺序码（通常是随机数字）。\n",
    "- 最后一位可以是数字或大写字母X。"
   ]
  },
  {
   "cell_type": "markdown",
   "metadata": {},
   "source": [
    "\n",
    "1. `^`：表示匹配字符串的开头，确保正则表达式从字符串的开头开始匹配。\n",
    "\n",
    "2. `[1-9]`：表示第一位是数字，但不包括0。这是因为身份证号的第一位通常不是0。\n",
    "\n",
    "3. `\\d{5}`：表示接下来的5位是数字（0-9），共计6位，这部分用来表示地区编码。\n",
    "\n",
    "4. `(19|20)`：这是一个分组，用于匹配年份的前两位。身份证号通常使用19或20作为年份的前两位。\n",
    "\n",
    "5. `\\d{2}`：表示匹配年份的后两位，共计2位。\n",
    "\n",
    "6. `(0[1-9]|1[0-2])`：这是一个分组，用于匹配月份。月份的范围是01到12。这一部分可以匹配01到09月以及10到12月。\n",
    "\n",
    "7. `(0[1-9]|[1-2]\\d|3[0-1])`：这是一个分组，用于匹配日期。它可以匹配01到09日，10到29日，以及30到31日。\n",
    "\n",
    "8. `\\d{3}`：表示匹配身份证号中的顺序码，通常是3位数字。\n",
    "\n",
    "9. `(\\d|X|x)`：这是最后一部分，用于匹配身份证号的校验码。它可以是数字（0-9）或字母X（可以是大写或小写）。\n",
    "\n",
    "10. `$`：表示匹配字符串的结尾，确保正则表达式匹配到字符串的末尾。\n"
   ]
  },
  {
   "cell_type": "code",
   "execution_count": 3,
   "metadata": {},
   "outputs": [
    {
     "name": "stdout",
     "output_type": "stream",
     "text": [
      "身份证号 440308199901011234 是否合法: True\n",
      "身份证号 44030819990101123X 是否合法: True\n",
      "身份证号 123456789012345678 是否合法: False\n"
     ]
    }
   ],
   "source": [
    "import re\n",
    "\n",
    "def validate_id_card(id_card):\n",
    "    # 定义身份证号的正则表达式模式\n",
    "    pattern = r'^[1-9]\\d{5}(19|20)\\d{2}(0[1-9]|1[0-2])(0[1-9]|[1-2]\\d|3[0-1])\\d{3}(\\d|X|x)$'\n",
    "    \n",
    "    # 使用正则表达式匹配身份证号\n",
    "    if re.match(pattern, id_card):\n",
    "        return True\n",
    "    else:\n",
    "        return False\n",
    "\n",
    "# 测试\n",
    "id_card1 = \"440308199901011234\"  # 合法身份证号\n",
    "id_card2 = \"44030819990101123X\"  # 合法身份证号，最后一位是X\n",
    "id_card3 = \"123456789012345678\"  # 非法身份证号\n",
    "\n",
    "print(f\"身份证号 {id_card1} 是否合法: {validate_id_card(id_card1)}\")\n",
    "print(f\"身份证号 {id_card2} 是否合法: {validate_id_card(id_card2)}\")\n",
    "print(f\"身份证号 {id_card3} 是否合法: {validate_id_card(id_card3)}\")"
   ]
  },
  {
   "cell_type": "markdown",
   "metadata": {},
   "source": [
    "以下是一些常见的正则表达式模式：\n",
    "\n",
    "1. **普通字符：** 普通字符（例如字母、数字、标点符号等）表示它们自身。在示例中，`\"apple\"` 就是一个普通字符。\n",
    "\n",
    "2. **特殊字符：** 正则表达式中有一些特殊字符，如 `.`、`*`、`+`、`?` 等，它们具有特殊的含义。例如，`\".\"` 表示匹配任何字符，`\"*\"` 表示匹配前一个字符的零个或多个重复，`\"+\"` 表示匹配前一个字符的一个或多个重复，`\"?\"` 表示匹配前一个字符的零个或一个重复。这些特殊字符需要进行转义，如 `\\.`、`\\*`、`\\+`、`\\?` 来匹配它们自身。\n",
    "\n",
    "3. **字符类：** 使用 `[...]` 表示一个字符类，可以匹配括号内的任何一个字符。例如，`[abc]` 匹配字符 'a'、'b' 或 'c' 中的任何一个。\n",
    "\n",
    "4. **范围字符类：** 使用 `[a-z]` 表示匹配小写字母 'a' 到 'z' 中的任何一个字符。类似地，`[0-9]` 表示匹配数字 0 到 9 中的任何一个字符。\n",
    "\n",
    "5. **反向字符类：** 使用 `[^...]` 表示一个反向字符类，可以匹配不在括号内的任何字符。例如，`[^0-9]` 匹配任何非数字字符。\n",
    "\n",
    "6. **预定义字符类：** 正则表达式还提供了一些预定义的字符类，如 `\\d` 表示任何数字字符，`\\w` 表示任何字母、数字或下划线字符，`\\s` 表示任何空白字符。相应的大写形式 `\\D`、`\\W`、`\\S` 表示它们的补集。\n",
    "\n",
    "7. **边界匹配：** `^` 表示匹配字符串的开头，`$` 表示匹配字符串的结尾。例如，`\"^apple\"` 匹配以 \"apple\" 开头的字符串。\n",
    "\n",
    "8. **重复：** 使用 `{m}` 表示前一个模式必须重复 m 次，使用 `{m, n}` 表示前一个模式必须重复至少 m 次，至多 n 次。例如，`\"a{2,4}\"` 匹配 \"aa\"、\"aaa\" 或 \"aaaa\"。\n",
    "\n",
    "9. **逻辑操作：** 正则表达式支持逻辑操作，如 `|` 表示或操作。例如，`\"apple|banana\"` 匹配 \"apple\" 或 \"banana\"。\n",
    "\n",
    "10. **分组：** 使用 `()` 创建分组，可以对模式进行分组和捕获。例如，`\"(apple|banana)\"` 匹配 \"apple\" 或 \"banana\"，并且可以通过捕获组来访问匹配的内容。\n",
    "\n",
    "在示例中，`pattern` 的形式是一个普通字符串 `\"apple\"`，它将匹配目标字符串的开头，只有当目标字符串以 \"apple\" 开头时才会找到匹配。"
   ]
  },
  {
   "cell_type": "markdown",
   "metadata": {},
   "source": [
    "## 4.动手实现一个链表，使其能够完成增删改查的操作。"
   ]
  },
  {
   "cell_type": "markdown",
   "metadata": {},
   "source": [
    "\n",
    "1. `LinkedList` 类：\n",
    "   - `__init__` 方法：这是构造方法，用于初始化链表。当创建新的链表时，它开始为空链表（即`head`设置为`None`），表示最初列表中没有节点。\n",
    "\n",
    "2. `append` 方法：\n",
    "   - 该方法用于将新节点添加到链表的末尾（尾部）。\n",
    "   - 它以`data`作为参数，并使用该数据创建一个新节点。\n",
    "   - 如果列表为空（即`head`为`None`），它将`head`设置为新节点，从而使其成为列表中的第一个节点。\n",
    "   - 如果列表不为空，它遍历列表以找到最后一个节点（具有`None`作为其`next`属性的节点），并将新节点添加为最后一个节点的下一个节点，从而扩展了列表。\n",
    "\n",
    "3. `delete` 方法：\n",
    "   - 该方法用于从链表中删除具有特定值的节点。\n",
    "   - 首先检查列表是否为空。如果为空，就没有要删除的内容。\n",
    "   - 如果`head`节点本身包含目标值，它将`head`更新为下一个节点，从而有效地删除了第一个节点。\n",
    "   - 如果目标值不在头节点中，它遍历列表以查找包含目标值的节点，并更新前一个节点的`next`引用以跳过要删除的节点，从而有效地将其从列表中删除。\n",
    "\n",
    "4. `update` 方法：\n",
    "   - 该方法允许您更改链表中特定位置（索引）的节点的值。\n",
    "   - 它首先检查列表是否为空。\n",
    "   - 然后，它遍历列表，并在达到所需位置时更新该节点的`data`属性为新值。\n",
    "\n",
    "5. `search` 方法：\n",
    "   - 该方法检查链表中是否存在特定值。\n",
    "   - 它遍历列表，将每个节点的`data`属性与目标值进行比较。\n",
    "   - 如果找到匹配，它返回`True`。如果在列表结束时仍未找到匹配，它返回`False`。\n",
    "\n",
    "6. `display` 方法：\n",
    "   - 该方法用于打印链表中节点的所有值。\n",
    "   - 它从`head`开始遍历列表，并打印每个节点的`data`值，后跟一个箭头（\"->\"）。最后，它打印\"None\"，表示列表的结束。\n",
    "\n",
    "这些方法一起提供了一组基本操作，用于创建、修改、搜索和显示单链表的内容。"
   ]
  },
  {
   "cell_type": "code",
   "execution_count": 4,
   "metadata": {},
   "outputs": [
    {
     "name": "stdout",
     "output_type": "stream",
     "text": [
      "1 -> 2 -> 3 -> None\n",
      "1 -> 3 -> None\n",
      "1 -> 4 -> None\n",
      "True\n",
      "False\n"
     ]
    }
   ],
   "source": [
    "class Node:\n",
    "    def __init__(self, data):\n",
    "        self.data = data\n",
    "        self.next = None\n",
    "\n",
    "class LinkedList:\n",
    "    def __init__(self):\n",
    "        self.head = None\n",
    "        \n",
    "    # 在链表末尾添加元素\n",
    "    def append(self, data):\n",
    "        new_node = Node(data)\n",
    "        if not self.head:\n",
    "            self.head = new_node\n",
    "            return\n",
    "        current = self.head\n",
    "        while current.next:\n",
    "            current = current.next\n",
    "        current.next = new_node \n",
    "        \n",
    "    # 删除指定值的元素\n",
    "    def delete(self, value):\n",
    "        if not self.head:\n",
    "            return\n",
    "        if self.head.data == value:\n",
    "            self.head = self.head.next\n",
    "            return\n",
    "        current = self.head\n",
    "        while current.next:\n",
    "            if current.next.data == value:\n",
    "                current.next = current.next.next\n",
    "                return\n",
    "            current = current.next\n",
    "\n",
    "    # 修改指定位置的元素值\n",
    "    def update(self, index, new_value):\n",
    "        if not self.head:\n",
    "            return\n",
    "        current = self.head\n",
    "        position = 0\n",
    "        while current:\n",
    "            if position == index:\n",
    "                current.data = new_value\n",
    "                return\n",
    "            current = current.next\n",
    "            position += 1\n",
    "        raise IndexError(\"Index out of range\")\n",
    "\n",
    "    # 查询指定值的元素是否存在\n",
    "    def search(self, value):\n",
    "        current = self.head\n",
    "        while current:\n",
    "            if current.data == value:\n",
    "                return True\n",
    "            current = current.next\n",
    "        return False\n",
    "\n",
    "    # 打印链表\n",
    "    def display(self):\n",
    "        current = self.head\n",
    "        while current:\n",
    "            print(current.data, end=\" -> \")\n",
    "            current = current.next\n",
    "        print(\"None\")\n",
    "\n",
    "# 测试链表操作\n",
    "if __name__ == \"__main__\":\n",
    "    linked_list = LinkedList()\n",
    "    linked_list.append(1)\n",
    "    linked_list.append(2)\n",
    "    linked_list.append(3)\n",
    "\n",
    "    linked_list.display()  # 打印链表：1 -> 2 -> 3 -> None\n",
    "\n",
    "    linked_list.delete(2)\n",
    "    linked_list.display()  # 打印链表：1 -> 3 -> None\n",
    "\n",
    "    linked_list.update(1, 4)\n",
    "    linked_list.display()  # 打印链表：1 -> 4 -> None\n",
    "\n",
    "    print(linked_list.search(4))  # 查询结果：True\n",
    "    print(linked_list.search(2))  # 查询结果：False\n"
   ]
  },
  {
   "cell_type": "markdown",
   "metadata": {},
   "source": [
    "## 5. 编写 Python 程序，通过for 循环，用 print 语句输出1到100之间的所有偶数。"
   ]
  },
  {
   "cell_type": "code",
   "execution_count": 5,
   "metadata": {},
   "outputs": [
    {
     "name": "stdout",
     "output_type": "stream",
     "text": [
      "2\n",
      "4\n",
      "6\n",
      "8\n",
      "10\n",
      "12\n",
      "14\n",
      "16\n",
      "18\n",
      "20\n",
      "22\n",
      "24\n",
      "26\n",
      "28\n",
      "30\n",
      "32\n",
      "34\n",
      "36\n",
      "38\n",
      "40\n",
      "42\n",
      "44\n",
      "46\n",
      "48\n",
      "50\n",
      "52\n",
      "54\n",
      "56\n",
      "58\n",
      "60\n",
      "62\n",
      "64\n",
      "66\n",
      "68\n",
      "70\n",
      "72\n",
      "74\n",
      "76\n",
      "78\n",
      "80\n",
      "82\n",
      "84\n",
      "86\n",
      "88\n",
      "90\n",
      "92\n",
      "94\n",
      "96\n",
      "98\n",
      "100\n"
     ]
    }
   ],
   "source": [
    "for num in range(1, 101):\n",
    "    if num % 2 == 0:\n",
    "        print(num)"
   ]
  },
  {
   "cell_type": "markdown",
   "metadata": {},
   "source": [
    "## 6.用if语句实现百分制转等级制（考试成绩，60分以下不合格，60—74分合格，75—89分为良好，90分以上为优秀）。"
   ]
  },
  {
   "cell_type": "code",
   "execution_count": 6,
   "metadata": {},
   "outputs": [
    {
     "name": "stdout",
     "output_type": "stream",
     "text": [
      "成绩等级：良好\n"
     ]
    }
   ],
   "source": [
    "# 输入考试成绩（百分制）\n",
    "score = float(input(\"请输入考试成绩（百分制）：\"))\n",
    "\n",
    "# 判断并输出等级\n",
    "if score >= 90:\n",
    "    grade = \"优秀\"\n",
    "elif score >= 75:\n",
    "    grade = \"良好\"\n",
    "elif score >= 60:\n",
    "    grade = \"合格\"\n",
    "else:\n",
    "    grade = \"不合格\"\n",
    "\n",
    "print(f\"成绩等级：{grade}\")"
   ]
  },
  {
   "cell_type": "markdown",
   "metadata": {},
   "source": [
    "## 7.编写 Python 程序，求两个正整数的最大公约数。"
   ]
  },
  {
   "cell_type": "markdown",
   "metadata": {},
   "source": [
    "![Euclidean_algorithm_252_105_animation_flipped](https://github.com/hypertrons/hypertrons-crx/assets/50283262/e70d58b5-999e-4d07-a99f-e98dcb6d2032)"
   ]
  },
  {
   "cell_type": "code",
   "execution_count": 7,
   "metadata": {},
   "outputs": [
    {
     "name": "stdout",
     "output_type": "stream",
     "text": [
      "9 和 6 的最大公约数是：3\n"
     ]
    }
   ],
   "source": [
    "def gcd(a, b):\n",
    "    while b:\n",
    "        a, b = b, a % b\n",
    "    return a\n",
    "\n",
    "# 输入两个正整数\n",
    "num1 = int(input(\"请输入第一个正整数：\"))\n",
    "num2 = int(input(\"请输入第二个正整数：\"))\n",
    "\n",
    "# 调用gcd函数求最大公约数\n",
    "result = gcd(num1, num2)\n",
    "\n",
    "print(f\"{num1} 和 {num2} 的最大公约数是：{result}\")\n"
   ]
  },
  {
   "cell_type": "markdown",
   "metadata": {},
   "source": [
    "## 8.使用 Python 随机生成多组长度递增的随机数列，使用不同的排序算法（如选择排序和归并排序）对这些数列的数据排序，请分析不同排序算法在不同长度数列下的运行效果。"
   ]
  },
  {
   "cell_type": "code",
   "execution_count": 8,
   "metadata": {},
   "outputs": [
    {
     "name": "stdout",
     "output_type": "stream",
     "text": [
      "长度为 100 的数列：\n",
      "选择排序时间：0.000181 秒\n",
      "归并排序时间：0.000144 秒\n",
      "快速排序时间：0.000119 秒\n",
      "-------------------------\n",
      "长度为 1000 的数列：\n",
      "选择排序时间：0.016846 秒\n",
      "归并排序时间：0.001291 秒\n",
      "快速排序时间：0.001112 秒\n",
      "-------------------------\n",
      "长度为 10000 的数列：\n",
      "选择排序时间：0.951637 秒\n",
      "归并排序时间：0.010599 秒\n",
      "快速排序时间：0.009345 秒\n",
      "-------------------------\n"
     ]
    }
   ],
   "source": [
    "import random\n",
    "import time\n",
    "\n",
    "def generate_random_sequence(length):\n",
    "    return [random.randint(1, 1000) for _ in range(length)]\n",
    "\n",
    "def selection_sort(arr):\n",
    "    for i in range(len(arr)):\n",
    "        min_idx = i\n",
    "        for j in range(i+1, len(arr)):\n",
    "            if arr[j] < arr[min_idx]:\n",
    "                min_idx = j\n",
    "        arr[i], arr[min_idx] = arr[min_idx], arr[i]\n",
    "\n",
    "def merge_sort(arr):\n",
    "    if len(arr) <= 1:\n",
    "        return arr\n",
    "    \n",
    "    mid = len(arr) // 2\n",
    "    left_half = arr[:mid]\n",
    "    right_half = arr[mid:]\n",
    "    \n",
    "    left_half = merge_sort(left_half)\n",
    "    right_half = merge_sort(right_half)\n",
    "    \n",
    "    return merge(left_half, right_half)\n",
    "\n",
    "def merge(left, right):\n",
    "    result = []\n",
    "    left_idx, right_idx = 0, 0\n",
    "    \n",
    "    while left_idx < len(left) and right_idx < len(right):\n",
    "        if left[left_idx] < right[right_idx]:\n",
    "            result.append(left[left_idx])\n",
    "            left_idx += 1\n",
    "        else:\n",
    "            result.append(right[right_idx])\n",
    "            right_idx += 1\n",
    "    \n",
    "    result.extend(left[left_idx:])\n",
    "    result.extend(right[right_idx:])\n",
    "    \n",
    "    return result\n",
    "\n",
    "def quick_sort(arr):\n",
    "    if len(arr) <= 1:\n",
    "        return arr\n",
    "    else:\n",
    "        pivot = arr[0]\n",
    "        less = [x for x in arr[1:] if x <= pivot]\n",
    "        greater = [x for x in arr[1:] if x > pivot]\n",
    "        return quick_sort(less) + [pivot] + quick_sort(greater)\n",
    "\n",
    "# 不同长度的随机数列\n",
    "sequence_lengths = [100, 1000, 10000]\n",
    "\n",
    "for length in sequence_lengths:\n",
    "    sequence = generate_random_sequence(length)\n",
    "    \n",
    "    # 使用选择排序排序并计时\n",
    "    selection_sequence = sequence.copy()\n",
    "    start_time = time.time()\n",
    "    selection_sort(selection_sequence)\n",
    "    selection_time = time.time() - start_time\n",
    "    \n",
    "    # 使用归并排序排序并计时\n",
    "    merge_sequence = sequence.copy()\n",
    "    start_time = time.time()\n",
    "    merge_sort(merge_sequence)\n",
    "    merge_time = time.time() - start_time\n",
    "    \n",
    "    # 使用快速排序排序并计时\n",
    "    quick_sequence = sequence.copy()\n",
    "    start_time = time.time()\n",
    "    quick_sort(quick_sequence)\n",
    "    quick_time = time.time() - start_time\n",
    "    \n",
    "    print(f\"长度为 {length} 的数列：\")\n",
    "    print(f\"选择排序时间：{selection_time:.6f} 秒\")\n",
    "    print(f\"归并排序时间：{merge_time:.6f} 秒\")\n",
    "    print(f\"快速排序时间：{quick_time:.6f} 秒\")\n",
    "    print(\"-------------------------\")"
   ]
  },
  {
   "cell_type": "markdown",
   "metadata": {},
   "source": [
    "## 9.对于数组A［O，1，⋯，n—1］，请构建一个数组 B[O,1，⋯，n—1]，其中B中的元素B[i]=A[O]XA[1]X…XA［i—1］×A［i+1］X…XA［n—1］。不能使用除法。"
   ]
  },
  {
   "cell_type": "code",
   "execution_count": 9,
   "metadata": {},
   "outputs": [
    {
     "name": "stdout",
     "output_type": "stream",
     "text": [
      "数组B: [24, 12, 8, 6]\n"
     ]
    }
   ],
   "source": [
    "def construct_array_b(arr):\n",
    "    n = len(arr)\n",
    "    left = [1] * n  # 初始化左侧累积乘积数组\n",
    "    right = [1] * n  # 初始化右侧累积乘积数组\n",
    "    result = [1] * n  # 初始化结果数组B\n",
    "\n",
    "    # 计算左侧累积乘积\n",
    "    left_product = 1\n",
    "    for i in range(n):\n",
    "        left[i] = left_product\n",
    "        left_product *= arr[i]\n",
    "\n",
    "    # 计算右侧累积乘积\n",
    "    right_product = 1\n",
    "    for i in range(n - 1, -1, -1):\n",
    "        right[i] = right_product\n",
    "        right_product *= arr[i]\n",
    "\n",
    "    # 构建结果数组B\n",
    "    for i in range(n):\n",
    "        result[i] = left[i] * right[i]\n",
    "\n",
    "    return result\n",
    "\n",
    "# 测试\n",
    "A = [1, 2, 3, 4]\n",
    "B = construct_array_b(A)\n",
    "print(\"数组B:\", B)\n"
   ]
  }
 ],
 "metadata": {
  "kernelspec": {
   "display_name": "Python 3",
   "language": "python",
   "name": "python3"
  },
  "language_info": {
   "codemirror_mode": {
    "name": "ipython",
    "version": 3
   },
   "file_extension": ".py",
   "mimetype": "text/x-python",
   "name": "python",
   "nbconvert_exporter": "python",
   "pygments_lexer": "ipython3",
   "version": "3.11.5"
  }
 },
 "nbformat": 4,
 "nbformat_minor": 2
}
