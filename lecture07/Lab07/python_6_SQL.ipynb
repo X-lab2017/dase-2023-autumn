{
 "cells": [
  {
   "cell_type": "markdown",
   "metadata": {},
   "source": [
    "## SQL语言初步"
   ]
  },
  {
   "cell_type": "markdown",
   "metadata": {},
   "source": [
    "SQL是**S**tructureed **Q**uery **L**anguage（结构化查询语言）的缩写，它是一种专门用于与数据库进行沟通的语言。\n",
    "\n",
    "与其他编程语言（例如C，Java，Python）不同，SQL只有很少的关键词，目的是提供一种从数据库中读写数据的**简单有效**的方法。\n",
    "\n",
    "目前大多数企业用户选择免费的MySQL作为自己的数据库，我们来简单学习一点适用于MySQL数据库的SQL语句，当然绝大部分语句也可应用于其他数据库管理系统。"
   ]
  },
  {
   "cell_type": "markdown",
   "metadata": {},
   "source": [
    "假设我们有一张表，表名为`school_grade`，这张表存储着学生的学号、班级以及修读每一门课程的成绩。\n",
    "\n",
    "![SampleTable](img/Lab08-1-1.png)"
   ]
  },
  {
   "cell_type": "markdown",
   "metadata": {},
   "source": [
    "### 步骤1 选取表的字段（列）"
   ]
  },
  {
   "cell_type": "markdown",
   "metadata": {},
   "source": [
    "`SELECT`语句用于选取表的某列或某几列。为了使用`SELECT`语句，必须给出两条信息：选什么字段、从哪里选取。\n",
    "\n",
    "我们现在从示例表中选取学生学号、课程代码以及成绩这3列信息。"
   ]
  },
  {
   "cell_type": "markdown",
   "metadata": {},
   "source": [
    "```sql\n",
    "SELECT stuNo,courseNo,grade FROM school_grade;\n",
    "```"
   ]
  },
  {
   "cell_type": "markdown",
   "metadata": {},
   "source": [
    "若执行多条SQL语句，每条语句后必须以分号结束；多数数据库管理系统不要求在单条SQL语句后添加分号，但是在每条SQL语句中添加分号是一个很好的习惯。\n",
    "\n",
    "SQL语句不区分大小写，所以上面的SQL语句中`SELECT`是和`select`是相同的，不过对SQL语言的关键字大写，表名和字段名小写是一个很好的习惯。\n",
    "\n",
    "SQL语句可以写成长长的一行，也可以分写在多行，例如\n",
    "\n",
    "```sql\n",
    "SELECT stuNo,courseNo,grade\n",
    "FROM school_grade;\n",
    "```\n",
    "\n",
    "执行该条SQL语句后，会显示表`school_grade`全部行的学生学号、课程代码和成绩。\n",
    "\n",
    "![SELECT1](img/Lab08-1-2.png)\n",
    "\n",
    "输出结果的列名默认为数据表的列名，你也可以自定义输出的列名。\n",
    "\n",
    "```sql\n",
    "SELECT stuNo AS 学号,courseNo AS 课程号,grade AS 成绩 FROM school_grade;\n",
    "```\n",
    "\n",
    "输出结果如下\n",
    "\n",
    "![SELECT2](img/Lab08-1-3.png)\n",
    "\n",
    "如果想选取所有列，可直接用`*`选取，例如\n",
    "```sql\n",
    "SELECT * FROM school_grade;\n",
    "```"
   ]
  },
  {
   "cell_type": "markdown",
   "metadata": {},
   "source": [
    "### 步骤2 检索不同的值"
   ]
  },
  {
   "cell_type": "markdown",
   "metadata": {},
   "source": [
    "现在我们想看一下有哪些班级，写出选取班级名字段的SQL语句：\n",
    "\n",
    "```sql\n",
    "SELECT class FROM school_grade;\n",
    "```\n",
    "\n",
    "![SELECT3](img/Lab08-1-4.png)\n",
    "\n",
    "事实上一个班中有很多同学，我们只想简单查看不重复的班级，这时候我们需要用到`DISTINCT`关键字，指示数据库只返回不同的值。\n",
    "\n",
    "```sql\n",
    "SELECT DISTINCT class FROM school_grade;\n",
    "```\n",
    "\n",
    "![SELECT4](img/Lab08-1-5.png)"
   ]
  },
  {
   "cell_type": "markdown",
   "metadata": {},
   "source": [
    "### 步骤3 限制结果"
   ]
  },
  {
   "cell_type": "markdown",
   "metadata": {},
   "source": [
    "现实中一张数据表可能包含成千上万条记录，如果返回全部记录可能造成系统缓慢，我们可以利用`LIMIT`关键字限制输出的行数。\n",
    "\n",
    "例如我们想输出全部字段，从第2条记录开始的3条记录：\n",
    "\n",
    "```sql\n",
    "SELECT * FROM school_grade LIMIT 1,3;\n",
    "```\n",
    "\n",
    "**注意：第一个被检索的行为第0行**，所以第2条记录被称为第1行。\n",
    "\n",
    "![LIMIT](img/Lab08-1-6.png)"
   ]
  },
  {
   "cell_type": "markdown",
   "metadata": {},
   "source": [
    "### 步骤4 使用注释"
   ]
  },
  {
   "cell_type": "markdown",
   "metadata": {},
   "source": [
    "SQL中一般使用两个减号作为行内注释的开始，例如\n",
    "\n",
    "```sql\n",
    "SELECT * FROM school_grade;  --这是一条注释\n",
    "```\n",
    "\n",
    "多行注释同C/C++语言，例如\n",
    "\n",
    "```sql\n",
    "/* 第一行注释\n",
    "第二行注释 */\n",
    "SELECT * FROM school_grade;\n",
    "```"
   ]
  },
  {
   "cell_type": "markdown",
   "metadata": {},
   "source": [
    "### 步骤5 排序检索数据"
   ]
  },
  {
   "cell_type": "markdown",
   "metadata": {},
   "source": [
    "现在我们想输出全部字段，**并按照成绩排序**。\n",
    "\n",
    "这时候就需要用到`ORDER BY`子句，后接字段名及排序方式，例如\n",
    "\n",
    "```sql\n",
    "SELECT * FROM school_grade ORDER BY grade;\n",
    "```\n",
    "\n",
    "![ORDER1](img/Lab08-1-7.png)\n",
    "\n",
    "不过默认排序方式为升序排序，如果想降序排序，还需要后接`DESC`关键字\n",
    "\n",
    "```sql\n",
    "SELECT * FROM school_grade ORDER BY grade DESC;\n",
    "```\n",
    "\n",
    "![ORDER2](img/Lab08-1-8.png)\n",
    "\n",
    "你也可以对多个字段进行排序，例如当成绩相同时再按班级升序排序，我们可以执行这条SQL语句：\n",
    "\n",
    "```sql\n",
    "SELECT * FROM school_grade ORDER BY grade DESC,class;\n",
    "```"
   ]
  },
  {
   "cell_type": "markdown",
   "metadata": {},
   "source": [
    "### 步骤6 过滤数据"
   ]
  },
  {
   "cell_type": "markdown",
   "metadata": {},
   "source": [
    "数据库表中一般包含大量的数据，很少检索表中的所有行，大多数情况下我们只关心满足某些条件的记录，这时候我们需要用到`WHERE`子句筛选出满足设定条件的记录。\n",
    "\n",
    "例如我们现在想查看学号为5011同学的所有课程成绩，也就是说限定条件为`stuNo='5011'`，我们写出以下SQL语句：\n",
    "\n",
    "```sql\n",
    "SELECT * FROM school_grade WHERE stuNo='5011';\n",
    "```\n",
    "\n",
    "![WHERE](img/Lab08-1-9.png)\n",
    "\n",
    "我们也可以选出有成绩不合格的学生学号，课程代码和成绩：\n",
    "\n",
    "```sql\n",
    "SELECT stuNo,courseNo,grade FROM school_grade WHERE grade < 60;\n",
    "```\n",
    "\n",
    "也可以选出成绩介于70至80之间的所有记录：\n",
    "\n",
    "```sql\n",
    "SELECT * FROM school_grade WHERE grade BETWEEN 70 AND 80;\n",
    "```\n",
    "\n",
    "还可以添加逻辑，例如选取1班中成绩不合格的记录：\n",
    "\n",
    "```sql\n",
    "SELECT * FROM school_grade WHERE class = 1 AND grade < 60;\n",
    "```"
   ]
  },
  {
   "cell_type": "markdown",
   "metadata": {},
   "source": [
    "### 步骤7 汇总数据"
   ]
  },
  {
   "cell_type": "markdown",
   "metadata": {},
   "source": [
    "我们经常需要汇总数据而不用把它们实际检索出来，为此SQL提供了一些专门的函数，可以用于\n",
    "\n",
    "* 确定记录行数(COUNT)\n",
    "* 确定某些行的最大值(MAX)/最小值(MIN)/总和(SUM)/平均值(AVG)\n",
    "\n",
    "我们用一些实际例子看一下。\n",
    "\n",
    "例如我们现在想查看课程代码为220的平均成绩\n",
    "\n",
    "```sql\n",
    "SELECT AVG(grade) FROM school_grade WHERE courseNo = '220';\n",
    "```\n",
    "\n",
    "![AVG](img/Lab08-1-10.png)\n",
    "\n",
    "查看1班学生的数量（注意一个学生有多条记录，需要计数不同内容的行的数量）\n",
    "\n",
    "```sql\n",
    "SELECT COUNT(DISTINCT stuNo) FROM school_grade WHERE class = 1;\n",
    "```"
   ]
  },
  {
   "cell_type": "markdown",
   "metadata": {},
   "source": [
    "### 步骤8 分组数据"
   ]
  },
  {
   "cell_type": "markdown",
   "metadata": {},
   "source": [
    "现在我们想查看每门课程的平均成绩，在上一步中我们学会了如何汇总数据，现在我们学习如何对各子集的数据进行汇总。\n",
    "\n",
    "`GROUP BY` 用于将数据分为多个逻辑组，对每个组分别进行聚集计算。**注意：`GROUP BY`子句必须出现在`WHERE`子句之后，`ORDER BY`子句之前！**\n",
    "\n",
    "```sql\n",
    "SELECT courseNo,AVG(grade) FROM school_grade GROUP BY courseNo;\n",
    "```\n",
    "\n",
    "![GROUP1](img/Lab08-1-11.png)\n",
    "\n",
    "我们还可以对分组后的数据进行过滤，例如我们在刚才的基础上增加一条限制条件：显示平均分大于80的课程成绩平均分。这时候就需要利用`HAVING`子句了。\n",
    "\n",
    "```sql\n",
    "SELECT courseNo,AVG(grade) FROM school_grade GROUP BY courseNo HAVING AVG(grade) > 80;\n",
    "```\n",
    "\n",
    "![GROUP2](img/Lab08-1-12.png)\n",
    "\n",
    "你可能会想既然是限制条件为什么不使用`WHERE`子句呢？例如\n",
    "\n",
    "```sql\n",
    "/*错误示范*/\n",
    "SELECT courseNo,AVG(grade) FROM school_grade WHERE AVG(grade) > 80 GROUP BY courseNo;\n",
    "```\n",
    "\n",
    "首先，`WHERE`过滤的是行而不是分组，`HAVING`过滤的是分组；\n",
    "\n",
    "其次，`WHERE`在数据分组前进行过滤，而`HAVING`是在数据分组后进行过滤，也就是说`WHERE`先排除掉不符合过滤条件的**行**，通过聚集函数计算后再使用`HAVING`子句排除不符合过滤条件的**分组**。"
   ]
  },
  {
   "cell_type": "markdown",
   "metadata": {},
   "source": [
    "### 步骤9 小结"
   ]
  },
  {
   "cell_type": "markdown",
   "metadata": {},
   "source": [
    "我们回顾一下`SELECT`语句中子句的顺序：\n",
    "\n",
    "* `SELECT`\n",
    "* `FROM`\n",
    "* `WHERE`\n",
    "* `GROUP BY`\n",
    "* `HAVING`\n",
    "* `ORDER BY`\n",
    "\n",
    "我们对数据库的四大基本操作包括[增加](https://www.runoob.com/sql/sql-insert.html)、[删除](https://www.runoob.com/sql/sql-delete.html)、[修改](https://www.runoob.com/sql/sql-update.html)和查询，其中查询是我们最经常进行的操作，其他三类操作可点击前面的链接自己学习。"
   ]
  },
  {
   "cell_type": "markdown",
   "metadata": {},
   "source": [
    "***"
   ]
  }
 ],
 "metadata": {
  "kernelspec": {
   "display_name": "Python 3",
   "language": "python",
   "name": "python3"
  },
  "language_info": {
   "codemirror_mode": {
    "name": "ipython",
    "version": 3
   },
   "file_extension": ".py",
   "mimetype": "text/x-python",
   "name": "python",
   "nbconvert_exporter": "python",
   "pygments_lexer": "ipython3",
   "version": "3.8.5"
  }
 },
 "nbformat": 4,
 "nbformat_minor": 4
}
